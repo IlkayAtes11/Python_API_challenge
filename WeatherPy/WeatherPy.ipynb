{
 "cells": [
  {
   "cell_type": "markdown",
   "metadata": {},
   "source": [
    "# WeatherPy\n",
    "----\n",
    "\n",
    "#### Note\n",
    "* Instructions have been included for each segment. You do not have to follow them exactly, but they are included to help you think through the steps."
   ]
  },
  {
   "cell_type": "code",
   "execution_count": 1,
   "metadata": {
    "scrolled": true
   },
   "outputs": [],
   "source": [
    "# Dependencies and Setup\n",
    "import matplotlib.pyplot as plt\n",
    "import pandas as pd\n",
    "import numpy as np\n",
    "import requests\n",
    "import time\n",
    "from scipy.stats import linregress\n",
    "import json\n",
    "\n",
    "# Import API key\n",
    "from api_keys import weather_api_key\n",
    "from api_keys import g_key\n",
    "\n",
    "# Incorporated citipy to determine city based on latitude and longitude\n",
    "from citipy import citipy\n",
    "\n",
    "# Output File (CSV)\n",
    "output_data_file = \"output_data/cities.csv\"\n",
    "\n",
    "# Range of latitudes and longitudes\n",
    "lat_range = (-90, 90)\n",
    "lng_range = (-180, 180)"
   ]
  },
  {
   "cell_type": "markdown",
   "metadata": {},
   "source": [
    "## Generate Cities List"
   ]
  },
  {
   "cell_type": "code",
   "execution_count": 2,
   "metadata": {},
   "outputs": [
    {
     "data": {
      "text/plain": [
       "82"
      ]
     },
     "execution_count": 2,
     "metadata": {},
     "output_type": "execute_result"
    }
   ],
   "source": [
    "# List for holding lat_lngs and cities\n",
    "lat_lngs = []\n",
    "cities = []\n",
    "\n",
    "# Create a set of random lat and lng combinations\n",
    "lats = np.random.uniform(lat_range[0], lat_range[1], size=100)\n",
    "lngs = np.random.uniform(lng_range[0], lng_range[1], size=100)\n",
    "lat_lngs = zip(lats, lngs)\n",
    "\n",
    "# Identify nearest city for each lat, lng combination\n",
    "for lat_lng in lat_lngs:\n",
    "    city = citipy.nearest_city(lat_lng[0], lat_lng[1]).city_name\n",
    "    \n",
    "    # If the city is unique, then add it to a our cities list\n",
    "    if city not in cities:\n",
    "        cities.append(city)\n",
    "\n",
    "# Print the city count to confirm sufficient count\n",
    "len(cities)"
   ]
  },
  {
   "cell_type": "markdown",
   "metadata": {},
   "source": [
    "### Perform API Calls\n",
    "* Perform a weather check on each city using a series of successive API calls.\n",
    "* Include a print log of each city as it'sbeing processed (with the city number and city name).\n"
   ]
  },
  {
   "cell_type": "code",
   "execution_count": 4,
   "metadata": {
    "scrolled": true
   },
   "outputs": [
    {
     "name": "stdout",
     "output_type": "stream",
     "text": [
      "http://api.openweathermap.org/data/2.5/weather?appid=932311d6e2f00289b7cc4ad01edf2b31&units=metrics&q=\n"
     ]
    }
   ],
   "source": [
    "# Url and units\n",
    "url = \"http://api.openweathermap.org/data/2.5/weather?\"\n",
    "units = \"metrics\"\n",
    "\n",
    "# Build query URL\n",
    "query_url = f\"{url}appid={weather_api_key}&units={units}&q=\"\n",
    "print(query_url)"
   ]
  },
  {
   "cell_type": "code",
   "execution_count": 5,
   "metadata": {},
   "outputs": [
    {
     "name": "stdout",
     "output_type": "stream",
     "text": [
      "Beginning Data Retrieval\n",
      "--------------------------------------------\n",
      "Processing Record 1 of Set 1 | east london\n",
      "Processing Record 2 of Set 1 | hilo\n",
      "Processing Record 3 of Set 1 | ribeira grande\n",
      "Processing Record 4 of Set 1 | rikitea\n",
      "Processing Record 5 of Set 1 | punta arenas\n",
      "Processing Record 6 of Set 1 | saint-philippe\n",
      "Processing Record 7 of Set 1 | port-gentil\n",
      "Processing Record 8 of Set 1 | pacifica\n",
      "Processing Record 9 of Set 1 | kangaatsiaq\n",
      "Processing Record 10 of Set 1 | ushuaia\n",
      "Processing Record 11 of Set 1 | castro\n",
      "Processing Record 12 of Set 1 | pangnirtung\n",
      "Processing Record 13 of Set 1 | busselton\n",
      "Processing Record 14 of Set 1 | izhmorskiy\n",
      "Processing Record 15 of Set 1 | vaitupu\n",
      "City not found. Skipping...\n",
      "Processing Record 16 of Set 1 | hobart\n",
      "Processing Record 17 of Set 1 | provideniya\n",
      "Processing Record 18 of Set 1 | bandarbeyla\n",
      "Processing Record 19 of Set 1 | hermanus\n",
      "Processing Record 20 of Set 1 | lebu\n",
      "Processing Record 21 of Set 1 | deputatskiy\n",
      "Processing Record 22 of Set 1 | carnarvon\n",
      "Processing Record 23 of Set 1 | cape town\n",
      "Processing Record 24 of Set 1 | hobyo\n",
      "Processing Record 25 of Set 1 | bargal\n",
      "City not found. Skipping...\n",
      "Processing Record 26 of Set 1 | timra\n",
      "Processing Record 27 of Set 1 | oriximina\n",
      "Processing Record 28 of Set 1 | taolanaro\n",
      "City not found. Skipping...\n",
      "Processing Record 29 of Set 1 | vestmannaeyjar\n",
      "Processing Record 30 of Set 1 | bambous virieux\n",
      "Processing Record 31 of Set 1 | illoqqortoormiut\n",
      "City not found. Skipping...\n",
      "Processing Record 32 of Set 1 | port macquarie\n",
      "Processing Record 33 of Set 1 | karaul\n",
      "City not found. Skipping...\n",
      "Processing Record 34 of Set 1 | saleaula\n",
      "City not found. Skipping...\n",
      "Processing Record 35 of Set 1 | amga\n",
      "Processing Record 36 of Set 1 | barentsburg\n",
      "City not found. Skipping...\n",
      "Processing Record 37 of Set 1 | georgetown\n",
      "Processing Record 38 of Set 1 | dikson\n",
      "Processing Record 39 of Set 1 | brae\n",
      "Processing Record 40 of Set 1 | dera bugti\n",
      "Processing Record 41 of Set 1 | kapaa\n",
      "Processing Record 42 of Set 1 | victoria\n",
      "Processing Record 43 of Set 1 | port elizabeth\n",
      "Processing Record 44 of Set 1 | puerto ayora\n",
      "Processing Record 45 of Set 1 | tuktoyaktuk\n",
      "Processing Record 46 of Set 1 | ystad\n",
      "Processing Record 47 of Set 1 | takeo\n",
      "Processing Record 48 of Set 1 | honningsvag\n",
      "Processing Record 49 of Set 1 | tasiilaq\n",
      "Processing Record 50 of Set 1 | aflu\n",
      "City not found. Skipping...\n",
      "Processing Record 1 of Set 2 | prachuap khiri khan\n",
      "Processing Record 2 of Set 2 | calbuco\n",
      "Processing Record 3 of Set 2 | vicosa\n",
      "Processing Record 4 of Set 2 | mahebourg\n",
      "Processing Record 5 of Set 2 | smoky lake\n",
      "Processing Record 6 of Set 2 | jamestown\n",
      "Processing Record 7 of Set 2 | miracema do tocantins\n",
      "Processing Record 8 of Set 2 | homer\n",
      "Processing Record 9 of Set 2 | shuyskoye\n",
      "Processing Record 10 of Set 2 | rantepao\n",
      "Processing Record 11 of Set 2 | sawtell\n",
      "Processing Record 12 of Set 2 | diego de almagro\n",
      "Processing Record 13 of Set 2 | vila velha\n",
      "Processing Record 14 of Set 2 | cidreira\n",
      "Processing Record 15 of Set 2 | kavaratti\n",
      "Processing Record 16 of Set 2 | kiama\n",
      "Processing Record 17 of Set 2 | kamennomostskiy\n",
      "Processing Record 18 of Set 2 | mataura\n",
      "Processing Record 19 of Set 2 | wahran\n",
      "City not found. Skipping...\n",
      "Processing Record 20 of Set 2 | hithadhoo\n",
      "Processing Record 21 of Set 2 | lisieux\n",
      "Processing Record 22 of Set 2 | faanui\n",
      "Processing Record 23 of Set 2 | cockburn town\n",
      "Processing Record 24 of Set 2 | bengkulu\n",
      "Processing Record 25 of Set 2 | nikolskoye\n",
      "Processing Record 26 of Set 2 | muros\n",
      "Processing Record 27 of Set 2 | thompson\n",
      "Processing Record 28 of Set 2 | atuona\n",
      "Processing Record 29 of Set 2 | savelugu\n",
      "Processing Record 30 of Set 2 | airai\n",
      "Processing Record 31 of Set 2 | kushiro\n",
      "Processing Record 32 of Set 2 | zhigansk\n",
      "------------------------------------------------\n",
      "Data Retrieval Complete\n",
      "------------------------------------------------\n"
     ]
    }
   ],
   "source": [
    "# Loop through the list of cities and request for data on each\n",
    "Lat = []\n",
    "Lng = []\n",
    "Max_Temp = []\n",
    "Humidity = []\n",
    "Cloudiness = []\n",
    "Wind_Speed = []\n",
    "Country = []\n",
    "Date = []\n",
    "\n",
    "print(\"Beginning Data Retrieval\")\n",
    "print(\"--------------------------------------------\")\n",
    "record = 0\n",
    "set = 1\n",
    "for index, city in enumerate(cities):\n",
    "    record = record + 1\n",
    "    # To avoid api call rate limits, get city weather data for 50 cities,\n",
    "    # then sleep for 5 seconds, and then continue with next 50 cities and so on...\n",
    "    if record == 51:\n",
    "        record = 1\n",
    "        set = set + 1\n",
    "        time.sleep(5)\n",
    "    print(f\"Processing Record {record} of Set {set} | {city}\")\n",
    "    try:\n",
    "        response = requests.get(query_url + city).json()\n",
    "        Lat.append(response['coord']['lat'])\n",
    "        Lng.append(response['coord']['lon'])\n",
    "        Max_Temp.append(response['main']['temp_max'])\n",
    "        Humidity.append(response['main']['humidity'])\n",
    "        Wind_Speed.append(response['wind']['speed'])\n",
    "        Date.append(response['dt'])\n",
    "        Country.append(response['sys']['country'])\n",
    "        Cloudiness.append(response['clouds']['all'])\n",
    "    except KeyError:\n",
    "        print(\"City not found. Skipping...\")\n",
    "        Lat.append(np.nan)\n",
    "        Lng.append(np.nan)\n",
    "        Max_Temp.append(np.nan)\n",
    "        Humidity.append(np.nan)\n",
    "        Wind_Speed.append(np.nan)\n",
    "        Date.append(np.nan)\n",
    "        Country.append(np.nan)\n",
    "        Cloudiness.append(np.nan)\n",
    "\n",
    "    if set == 4:\n",
    "        break\n",
    "print(\"------------------------------------------------\")\n",
    "print(\"Data Retrieval Complete\")\n",
    "print(\"------------------------------------------------\")"
   ]
  },
  {
   "cell_type": "markdown",
   "metadata": {},
   "source": [
    "### Convert Raw Data to DataFrame\n",
    "* Export the city data into a .csv.\n",
    "* Display the DataFrame"
   ]
  },
  {
   "cell_type": "code",
   "execution_count": 13,
   "metadata": {},
   "outputs": [
    {
     "data": {
      "text/html": [
       "<div>\n",
       "<style scoped>\n",
       "    .dataframe tbody tr th:only-of-type {\n",
       "        vertical-align: middle;\n",
       "    }\n",
       "\n",
       "    .dataframe tbody tr th {\n",
       "        vertical-align: top;\n",
       "    }\n",
       "\n",
       "    .dataframe thead th {\n",
       "        text-align: right;\n",
       "    }\n",
       "</style>\n",
       "<table border=\"1\" class=\"dataframe\">\n",
       "  <thead>\n",
       "    <tr style=\"text-align: right;\">\n",
       "      <th></th>\n",
       "      <th>City</th>\n",
       "      <th>Lat</th>\n",
       "      <th>Lng</th>\n",
       "      <th>Max Temp</th>\n",
       "      <th>Humidity</th>\n",
       "      <th>Cloudiness</th>\n",
       "      <th>Wind Speed</th>\n",
       "      <th>Country</th>\n",
       "      <th>Date</th>\n",
       "    </tr>\n",
       "  </thead>\n",
       "  <tbody>\n",
       "    <tr>\n",
       "      <th>0</th>\n",
       "      <td>east london</td>\n",
       "      <td>-33.0153</td>\n",
       "      <td>27.9116</td>\n",
       "      <td>291.75</td>\n",
       "      <td>89.0</td>\n",
       "      <td>100.0</td>\n",
       "      <td>6.32</td>\n",
       "      <td>ZA</td>\n",
       "      <td>1.668814e+09</td>\n",
       "    </tr>\n",
       "    <tr>\n",
       "      <th>1</th>\n",
       "      <td>hilo</td>\n",
       "      <td>19.7297</td>\n",
       "      <td>-155.0900</td>\n",
       "      <td>300.51</td>\n",
       "      <td>82.0</td>\n",
       "      <td>75.0</td>\n",
       "      <td>4.63</td>\n",
       "      <td>US</td>\n",
       "      <td>1.668814e+09</td>\n",
       "    </tr>\n",
       "    <tr>\n",
       "      <th>2</th>\n",
       "      <td>ribeira grande</td>\n",
       "      <td>38.5167</td>\n",
       "      <td>-28.7000</td>\n",
       "      <td>291.91</td>\n",
       "      <td>68.0</td>\n",
       "      <td>95.0</td>\n",
       "      <td>7.15</td>\n",
       "      <td>PT</td>\n",
       "      <td>1.668814e+09</td>\n",
       "    </tr>\n",
       "    <tr>\n",
       "      <th>3</th>\n",
       "      <td>rikitea</td>\n",
       "      <td>-23.1203</td>\n",
       "      <td>-134.9692</td>\n",
       "      <td>295.10</td>\n",
       "      <td>73.0</td>\n",
       "      <td>11.0</td>\n",
       "      <td>5.47</td>\n",
       "      <td>PF</td>\n",
       "      <td>1.668814e+09</td>\n",
       "    </tr>\n",
       "    <tr>\n",
       "      <th>4</th>\n",
       "      <td>punta arenas</td>\n",
       "      <td>-53.1500</td>\n",
       "      <td>-70.9167</td>\n",
       "      <td>289.21</td>\n",
       "      <td>31.0</td>\n",
       "      <td>40.0</td>\n",
       "      <td>10.29</td>\n",
       "      <td>CL</td>\n",
       "      <td>1.668814e+09</td>\n",
       "    </tr>\n",
       "  </tbody>\n",
       "</table>\n",
       "</div>"
      ],
      "text/plain": [
       "             City      Lat       Lng  Max Temp  Humidity  Cloudiness  \\\n",
       "0     east london -33.0153   27.9116    291.75      89.0       100.0   \n",
       "1            hilo  19.7297 -155.0900    300.51      82.0        75.0   \n",
       "2  ribeira grande  38.5167  -28.7000    291.91      68.0        95.0   \n",
       "3         rikitea -23.1203 -134.9692    295.10      73.0        11.0   \n",
       "4    punta arenas -53.1500  -70.9167    289.21      31.0        40.0   \n",
       "\n",
       "   Wind Speed Country          Date  \n",
       "0        6.32      ZA  1.668814e+09  \n",
       "1        4.63      US  1.668814e+09  \n",
       "2        7.15      PT  1.668814e+09  \n",
       "3        5.47      PF  1.668814e+09  \n",
       "4       10.29      CL  1.668814e+09  "
      ]
     },
     "execution_count": 13,
     "metadata": {},
     "output_type": "execute_result"
    }
   ],
   "source": [
    "#Creating a dataframe to fill after looping in cities\n",
    "cities_df = pd.DataFrame({\n",
    "    'City': cities,\n",
    "    \"Lat\": Lat,\n",
    "    'Lng': Lng,\n",
    "    'Max Temp': Max_Temp,\n",
    "    'Humidity': Humidity,\n",
    "    'Cloudiness': Cloudiness,\n",
    "    'Wind Speed': Wind_Speed,\n",
    "    'Country': Country,\n",
    "    'Date': Date\n",
    "    })\n",
    "    \n",
    "cities_df.to_csv('output')\n",
    "\n",
    "cities_df.head()"
   ]
  },
  {
   "cell_type": "markdown",
   "metadata": {},
   "source": [
    "## Inspect the data and remove the cities where the humidity > 100%.\n",
    "----\n",
    "Skip this step if there are no cities that have humidity > 100%. "
   ]
  },
  {
   "cell_type": "code",
   "execution_count": 15,
   "metadata": {},
   "outputs": [
    {
     "data": {
      "text/plain": [
       "98.0"
      ]
     },
     "execution_count": 15,
     "metadata": {},
     "output_type": "execute_result"
    }
   ],
   "source": [
    "#This step i skipped because the max Humidity is \n",
    "cities_df['Humidity'].max()"
   ]
  },
  {
   "cell_type": "code",
   "execution_count": 7,
   "metadata": {},
   "outputs": [],
   "source": [
    "#  Get the indices of cities that have humidity over 100%.\n"
   ]
  },
  {
   "cell_type": "code",
   "execution_count": 8,
   "metadata": {},
   "outputs": [],
   "source": [
    "# Make a new DataFrame equal to the city data to drop all humidity outliers by index.\n",
    "# Passing \"inplace=False\" will make a copy of the city_data DataFrame, which we call \"clean_city_data\".\n"
   ]
  },
  {
   "cell_type": "code",
   "execution_count": null,
   "metadata": {},
   "outputs": [],
   "source": [
    "\n"
   ]
  },
  {
   "cell_type": "markdown",
   "metadata": {},
   "source": [
    "## Plotting the Data\n",
    "* Use proper labeling of the plots using plot titles (including date of analysis) and axes labels.\n",
    "* Save the plotted figures as .pngs."
   ]
  },
  {
   "cell_type": "markdown",
   "metadata": {},
   "source": [
    "## Latitude vs. Temperature Plot"
   ]
  },
  {
   "cell_type": "code",
   "execution_count": null,
   "metadata": {
    "scrolled": true
   },
   "outputs": [],
   "source": []
  },
  {
   "cell_type": "markdown",
   "metadata": {},
   "source": [
    "## Latitude vs. Humidity Plot"
   ]
  },
  {
   "cell_type": "code",
   "execution_count": null,
   "metadata": {},
   "outputs": [],
   "source": []
  },
  {
   "cell_type": "markdown",
   "metadata": {},
   "source": [
    "## Latitude vs. Cloudiness Plot"
   ]
  },
  {
   "cell_type": "code",
   "execution_count": null,
   "metadata": {},
   "outputs": [],
   "source": []
  },
  {
   "cell_type": "markdown",
   "metadata": {},
   "source": [
    "## Latitude vs. Wind Speed Plot"
   ]
  },
  {
   "cell_type": "code",
   "execution_count": null,
   "metadata": {},
   "outputs": [],
   "source": []
  },
  {
   "cell_type": "markdown",
   "metadata": {},
   "source": [
    "## Linear Regression"
   ]
  },
  {
   "cell_type": "code",
   "execution_count": null,
   "metadata": {},
   "outputs": [],
   "source": []
  },
  {
   "cell_type": "markdown",
   "metadata": {},
   "source": [
    "####  Northern Hemisphere - Max Temp vs. Latitude Linear Regression"
   ]
  },
  {
   "cell_type": "code",
   "execution_count": null,
   "metadata": {},
   "outputs": [],
   "source": []
  },
  {
   "cell_type": "markdown",
   "metadata": {},
   "source": [
    "####  Southern Hemisphere - Max Temp vs. Latitude Linear Regression"
   ]
  },
  {
   "cell_type": "code",
   "execution_count": null,
   "metadata": {},
   "outputs": [],
   "source": []
  },
  {
   "cell_type": "markdown",
   "metadata": {},
   "source": [
    "####  Northern Hemisphere - Humidity (%) vs. Latitude Linear Regression"
   ]
  },
  {
   "cell_type": "code",
   "execution_count": null,
   "metadata": {},
   "outputs": [],
   "source": []
  },
  {
   "cell_type": "markdown",
   "metadata": {},
   "source": [
    "####  Southern Hemisphere - Humidity (%) vs. Latitude Linear Regression"
   ]
  },
  {
   "cell_type": "code",
   "execution_count": null,
   "metadata": {},
   "outputs": [],
   "source": []
  },
  {
   "cell_type": "markdown",
   "metadata": {},
   "source": [
    "####  Northern Hemisphere - Cloudiness (%) vs. Latitude Linear Regression"
   ]
  },
  {
   "cell_type": "code",
   "execution_count": null,
   "metadata": {},
   "outputs": [],
   "source": []
  },
  {
   "cell_type": "markdown",
   "metadata": {},
   "source": [
    "####  Southern Hemisphere - Cloudiness (%) vs. Latitude Linear Regression"
   ]
  },
  {
   "cell_type": "code",
   "execution_count": null,
   "metadata": {},
   "outputs": [],
   "source": []
  },
  {
   "cell_type": "markdown",
   "metadata": {},
   "source": [
    "####  Northern Hemisphere - Wind Speed (mph) vs. Latitude Linear Regression"
   ]
  },
  {
   "cell_type": "code",
   "execution_count": null,
   "metadata": {},
   "outputs": [],
   "source": []
  },
  {
   "cell_type": "markdown",
   "metadata": {},
   "source": [
    "####  Southern Hemisphere - Wind Speed (mph) vs. Latitude Linear Regression"
   ]
  },
  {
   "cell_type": "code",
   "execution_count": null,
   "metadata": {},
   "outputs": [],
   "source": []
  },
  {
   "cell_type": "code",
   "execution_count": null,
   "metadata": {},
   "outputs": [],
   "source": []
  }
 ],
 "metadata": {
  "anaconda-cloud": {},
  "kernel_info": {
   "name": "python3"
  },
  "kernelspec": {
   "display_name": "Python 3.9.12 ('base')",
   "language": "python",
   "name": "python3"
  },
  "language_info": {
   "codemirror_mode": {
    "name": "ipython",
    "version": 3
   },
   "file_extension": ".py",
   "mimetype": "text/x-python",
   "name": "python",
   "nbconvert_exporter": "python",
   "pygments_lexer": "ipython3",
   "version": "3.9.12"
  },
  "latex_envs": {
   "LaTeX_envs_menu_present": true,
   "autoclose": false,
   "autocomplete": true,
   "bibliofile": "biblio.bib",
   "cite_by": "apalike",
   "current_citInitial": 1,
   "eqLabelWithNumbers": true,
   "eqNumInitial": 1,
   "hotkeys": {
    "equation": "Ctrl-E",
    "itemize": "Ctrl-I"
   },
   "labels_anchors": false,
   "latex_user_defs": false,
   "report_style_numbering": false,
   "user_envs_cfg": false
  },
  "nteract": {
   "version": "0.12.3"
  },
  "vscode": {
   "interpreter": {
    "hash": "3f4da9ad29e059a40e4a65ef355beaf2f6b9d5f6b9e791e2b0a14c28b2ec070e"
   }
  }
 },
 "nbformat": 4,
 "nbformat_minor": 2
}
