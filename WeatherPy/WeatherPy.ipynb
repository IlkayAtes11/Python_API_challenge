{
 "cells": [
  {
   "cell_type": "markdown",
   "metadata": {},
   "source": [
    "# WeatherPy\n",
    "----\n",
    "\n",
    "#### Note\n",
    "* Instructions have been included for each segment. You do not have to follow them exactly, but they are included to help you think through the steps."
   ]
  },
  {
   "cell_type": "code",
   "execution_count": 1,
   "metadata": {
    "scrolled": true
   },
   "outputs": [],
   "source": [
    "# Dependencies and Setup\n",
    "import matplotlib.pyplot as plt\n",
    "import pandas as pd\n",
    "import numpy as np\n",
    "import requests\n",
    "import time\n",
    "from scipy.stats import linregress\n",
    "import scipy.stats as st\n",
    "import json\n",
    "from datetime import datetime\n",
    "\n",
    "# Import API key\n",
    "from api_keys import weather_api_key\n",
    "from api_keys import g_key\n",
    "\n",
    "# Incorporated citipy to determine city based on latitude and longitude\n",
    "from citipy import citipy\n",
    "\n",
    "# Output File (CSV)\n",
    "output_data_file = \"output_data/cities.csv\"\n",
    "\n",
    "# Range of latitudes and longitudes\n",
    "lat_range = (-90, 90)\n",
    "lng_range = (-180, 180)"
   ]
  },
  {
   "cell_type": "markdown",
   "metadata": {},
   "source": [
    "## Generate Cities List"
   ]
  },
  {
   "cell_type": "code",
   "execution_count": 2,
   "metadata": {},
   "outputs": [
    {
     "data": {
      "text/plain": [
       "78"
      ]
     },
     "execution_count": 2,
     "metadata": {},
     "output_type": "execute_result"
    }
   ],
   "source": [
    "# List for holding lat_lngs and cities\n",
    "lat_lngs = []\n",
    "cities = []\n",
    "\n",
    "# Create a set of random lat and lng combinations\n",
    "lats = np.random.uniform(lat_range[0], lat_range[1], size=100)\n",
    "lngs = np.random.uniform(lng_range[0], lng_range[1], size=100)\n",
    "lat_lngs = zip(lats, lngs)\n",
    "\n",
    "# Identify nearest city for each lat, lng combination\n",
    "for lat_lng in lat_lngs:\n",
    "    city = citipy.nearest_city(lat_lng[0], lat_lng[1]).city_name\n",
    "    \n",
    "    # If the city is unique, then add it to a our cities list\n",
    "    if city not in cities:\n",
    "        cities.append(city)\n",
    "\n",
    "# Print the city count to confirm sufficient count\n",
    "len(cities)"
   ]
  },
  {
   "cell_type": "markdown",
   "metadata": {},
   "source": [
    "### Perform API Calls\n",
    "* Perform a weather check on each city using a series of successive API calls.\n",
    "* Include a print log of each city as it'sbeing processed (with the city number and city name).\n"
   ]
  },
  {
   "cell_type": "code",
   "execution_count": 3,
   "metadata": {
    "scrolled": true
   },
   "outputs": [
    {
     "name": "stdout",
     "output_type": "stream",
     "text": [
      "http://api.openweathermap.org/data/2.5/weather?appid=932311d6e2f00289b7cc4ad01edf2b31&units=imperial&q=\n"
     ]
    }
   ],
   "source": [
    "# Url and units\n",
    "url = \"http://api.openweathermap.org/data/2.5/weather?\"\n",
    "units = \"imperial\"\n",
    "\n",
    "# Build query URL\n",
    "query_url = f\"{url}appid={weather_api_key}&units={units}&q=\"\n",
    "print(query_url)"
   ]
  },
  {
   "cell_type": "code",
   "execution_count": 4,
   "metadata": {},
   "outputs": [
    {
     "name": "stdout",
     "output_type": "stream",
     "text": [
      "Beginning Data Retrieval\n",
      "--------------------------------------------\n",
      "Processing Record 1 of Set 1 | mataura\n",
      "Processing Record 2 of Set 1 | albany\n",
      "Processing Record 3 of Set 1 | vaini\n",
      "Processing Record 4 of Set 1 | jamestown\n",
      "Processing Record 5 of Set 1 | hasaki\n",
      "Processing Record 6 of Set 1 | nikolskoye\n",
      "Processing Record 7 of Set 1 | atuona\n",
      "Processing Record 8 of Set 1 | mar del plata\n",
      "Processing Record 9 of Set 1 | methoni\n",
      "Processing Record 10 of Set 1 | geresk\n",
      "City not found. Skipping...\n",
      "Processing Record 11 of Set 1 | norman wells\n",
      "Processing Record 12 of Set 1 | saint george\n",
      "Processing Record 13 of Set 1 | kapaa\n",
      "Processing Record 14 of Set 1 | geraldton\n",
      "Processing Record 15 of Set 1 | provideniya\n",
      "Processing Record 16 of Set 1 | new norfolk\n",
      "Processing Record 17 of Set 1 | port elizabeth\n",
      "Processing Record 18 of Set 1 | tuatapere\n",
      "Processing Record 19 of Set 1 | airai\n",
      "Processing Record 20 of Set 1 | east london\n",
      "Processing Record 21 of Set 1 | rikitea\n",
      "Processing Record 22 of Set 1 | belushya guba\n",
      "City not found. Skipping...\n",
      "Processing Record 23 of Set 1 | hobart\n",
      "Processing Record 24 of Set 1 | alofi\n",
      "Processing Record 25 of Set 1 | kamenka\n",
      "Processing Record 26 of Set 1 | nome\n",
      "Processing Record 27 of Set 1 | illoqqortoormiut\n",
      "City not found. Skipping...\n",
      "Processing Record 28 of Set 1 | qaanaaq\n",
      "Processing Record 29 of Set 1 | cartagena\n",
      "Processing Record 30 of Set 1 | superior\n",
      "Processing Record 31 of Set 1 | cape town\n",
      "Processing Record 32 of Set 1 | thompson\n",
      "Processing Record 33 of Set 1 | kostomuksha\n",
      "Processing Record 34 of Set 1 | hofn\n",
      "Processing Record 35 of Set 1 | touros\n",
      "Processing Record 36 of Set 1 | alice springs\n",
      "Processing Record 37 of Set 1 | ushuaia\n",
      "Processing Record 38 of Set 1 | sabha\n",
      "Processing Record 39 of Set 1 | fort nelson\n",
      "Processing Record 40 of Set 1 | puerto leguizamo\n",
      "Processing Record 41 of Set 1 | tuktoyaktuk\n",
      "Processing Record 42 of Set 1 | hermanus\n",
      "Processing Record 43 of Set 1 | khatanga\n",
      "Processing Record 44 of Set 1 | glendive\n",
      "Processing Record 45 of Set 1 | bethel\n",
      "Processing Record 46 of Set 1 | atar\n",
      "Processing Record 47 of Set 1 | ponta do sol\n",
      "Processing Record 48 of Set 1 | port augusta\n",
      "Processing Record 49 of Set 1 | kaabong\n",
      "Processing Record 50 of Set 1 | hilo\n",
      "Processing Record 1 of Set 2 | busselton\n",
      "Processing Record 2 of Set 2 | nara\n",
      "Processing Record 3 of Set 2 | bambous virieux\n",
      "Processing Record 4 of Set 2 | bluff\n",
      "Processing Record 5 of Set 2 | san patricio\n",
      "Processing Record 6 of Set 2 | caravelas\n",
      "Processing Record 7 of Set 2 | general bravo\n",
      "Processing Record 8 of Set 2 | barentsburg\n",
      "City not found. Skipping...\n",
      "Processing Record 9 of Set 2 | jumla\n",
      "Processing Record 10 of Set 2 | puerto madryn\n",
      "Processing Record 11 of Set 2 | lebu\n",
      "Processing Record 12 of Set 2 | amderma\n",
      "City not found. Skipping...\n",
      "Processing Record 13 of Set 2 | faanui\n",
      "Processing Record 14 of Set 2 | iquique\n",
      "Processing Record 15 of Set 2 | taolanaro\n",
      "City not found. Skipping...\n",
      "Processing Record 16 of Set 2 | umea\n",
      "Processing Record 17 of Set 2 | gobabis\n",
      "Processing Record 18 of Set 2 | dikson\n",
      "Processing Record 19 of Set 2 | asau\n",
      "Processing Record 20 of Set 2 | zilair\n",
      "Processing Record 21 of Set 2 | ondorhaan\n",
      "City not found. Skipping...\n",
      "Processing Record 22 of Set 2 | yellowknife\n",
      "Processing Record 23 of Set 2 | port blair\n",
      "Processing Record 24 of Set 2 | kununurra\n",
      "Processing Record 25 of Set 2 | guanare\n",
      "Processing Record 26 of Set 2 | mahebourg\n",
      "Processing Record 27 of Set 2 | ribeira grande\n",
      "Processing Record 28 of Set 2 | barrow\n",
      "------------------------------------------------\n",
      "Data Retrieval Complete\n",
      "------------------------------------------------\n"
     ]
    }
   ],
   "source": [
    "# Loop through the list of cities and request for data on each\n",
    "Lat = []\n",
    "Lng = []\n",
    "Max_Temp = []\n",
    "Humidity = []\n",
    "Cloudiness = []\n",
    "Wind_Speed = []\n",
    "Country = []\n",
    "Date = []\n",
    "\n",
    "print(\"Beginning Data Retrieval\")\n",
    "print(\"--------------------------------------------\")\n",
    "record = 0\n",
    "set = 1\n",
    "for index, city in enumerate(cities):\n",
    "    record = record + 1\n",
    "    # To avoid api call rate limits, get city weather data for 50 cities,\n",
    "    # then sleep for 5 seconds, and then continue with next 50 cities and so on...\n",
    "    if record == 51:\n",
    "        record = 1\n",
    "        set = set + 1\n",
    "        time.sleep(5)\n",
    "    print(f\"Processing Record {record} of Set {set} | {city}\")\n",
    "    try:\n",
    "        response = requests.get(query_url + city).json()\n",
    "        Lat.append(response['coord']['lat'])\n",
    "        Lng.append(response['coord']['lon'])\n",
    "        Max_Temp.append(response['main']['temp_max'])\n",
    "        Humidity.append(response['main']['humidity'])\n",
    "        Wind_Speed.append(response['wind']['speed'])\n",
    "        Date.append(response['dt'])\n",
    "        Country.append(response['sys']['country'])\n",
    "        Cloudiness.append(response['clouds']['all'])\n",
    "    except KeyError:\n",
    "        print(\"City not found. Skipping...\")\n",
    "        Lat.append(np.nan)\n",
    "        Lng.append(np.nan)\n",
    "        Max_Temp.append(np.nan)\n",
    "        Humidity.append(np.nan)\n",
    "        Wind_Speed.append(np.nan)\n",
    "        Date.append(np.nan)\n",
    "        Country.append(np.nan)\n",
    "        Cloudiness.append(np.nan)\n",
    "\n",
    "    if set == 4:\n",
    "        break\n",
    "print(\"------------------------------------------------\")\n",
    "print(\"Data Retrieval Complete\")\n",
    "print(\"------------------------------------------------\")"
   ]
  },
  {
   "cell_type": "markdown",
   "metadata": {},
   "source": [
    "### Convert Raw Data to DataFrame\n",
    "* Export the city data into a .csv.\n",
    "* Display the DataFrame"
   ]
  },
  {
   "cell_type": "code",
   "execution_count": 5,
   "metadata": {},
   "outputs": [
    {
     "data": {
      "text/html": [
       "<div>\n",
       "<style scoped>\n",
       "    .dataframe tbody tr th:only-of-type {\n",
       "        vertical-align: middle;\n",
       "    }\n",
       "\n",
       "    .dataframe tbody tr th {\n",
       "        vertical-align: top;\n",
       "    }\n",
       "\n",
       "    .dataframe thead th {\n",
       "        text-align: right;\n",
       "    }\n",
       "</style>\n",
       "<table border=\"1\" class=\"dataframe\">\n",
       "  <thead>\n",
       "    <tr style=\"text-align: right;\">\n",
       "      <th></th>\n",
       "      <th>City</th>\n",
       "      <th>Lat</th>\n",
       "      <th>Lng</th>\n",
       "      <th>Max Temp</th>\n",
       "      <th>Humidity</th>\n",
       "      <th>Cloudiness</th>\n",
       "      <th>Wind Speed</th>\n",
       "      <th>Country</th>\n",
       "      <th>Date</th>\n",
       "    </tr>\n",
       "  </thead>\n",
       "  <tbody>\n",
       "    <tr>\n",
       "      <th>0</th>\n",
       "      <td>mataura</td>\n",
       "      <td>-46.1927</td>\n",
       "      <td>168.8643</td>\n",
       "      <td>50.49</td>\n",
       "      <td>58.0</td>\n",
       "      <td>85.0</td>\n",
       "      <td>8.68</td>\n",
       "      <td>NZ</td>\n",
       "      <td>1.669870e+09</td>\n",
       "    </tr>\n",
       "    <tr>\n",
       "      <th>1</th>\n",
       "      <td>albany</td>\n",
       "      <td>42.6001</td>\n",
       "      <td>-73.9662</td>\n",
       "      <td>36.18</td>\n",
       "      <td>73.0</td>\n",
       "      <td>57.0</td>\n",
       "      <td>5.01</td>\n",
       "      <td>US</td>\n",
       "      <td>1.669870e+09</td>\n",
       "    </tr>\n",
       "    <tr>\n",
       "      <th>2</th>\n",
       "      <td>vaini</td>\n",
       "      <td>-21.2000</td>\n",
       "      <td>-175.2000</td>\n",
       "      <td>82.56</td>\n",
       "      <td>83.0</td>\n",
       "      <td>75.0</td>\n",
       "      <td>9.22</td>\n",
       "      <td>TO</td>\n",
       "      <td>1.669870e+09</td>\n",
       "    </tr>\n",
       "    <tr>\n",
       "      <th>3</th>\n",
       "      <td>jamestown</td>\n",
       "      <td>42.0970</td>\n",
       "      <td>-79.2353</td>\n",
       "      <td>27.72</td>\n",
       "      <td>97.0</td>\n",
       "      <td>100.0</td>\n",
       "      <td>19.57</td>\n",
       "      <td>US</td>\n",
       "      <td>1.669869e+09</td>\n",
       "    </tr>\n",
       "    <tr>\n",
       "      <th>4</th>\n",
       "      <td>hasaki</td>\n",
       "      <td>35.7333</td>\n",
       "      <td>140.8333</td>\n",
       "      <td>48.29</td>\n",
       "      <td>76.0</td>\n",
       "      <td>100.0</td>\n",
       "      <td>20.22</td>\n",
       "      <td>JP</td>\n",
       "      <td>1.669870e+09</td>\n",
       "    </tr>\n",
       "  </tbody>\n",
       "</table>\n",
       "</div>"
      ],
      "text/plain": [
       "        City      Lat       Lng  Max Temp  Humidity  Cloudiness  Wind Speed  \\\n",
       "0    mataura -46.1927  168.8643     50.49      58.0        85.0        8.68   \n",
       "1     albany  42.6001  -73.9662     36.18      73.0        57.0        5.01   \n",
       "2      vaini -21.2000 -175.2000     82.56      83.0        75.0        9.22   \n",
       "3  jamestown  42.0970  -79.2353     27.72      97.0       100.0       19.57   \n",
       "4     hasaki  35.7333  140.8333     48.29      76.0       100.0       20.22   \n",
       "\n",
       "  Country          Date  \n",
       "0      NZ  1.669870e+09  \n",
       "1      US  1.669870e+09  \n",
       "2      TO  1.669870e+09  \n",
       "3      US  1.669869e+09  \n",
       "4      JP  1.669870e+09  "
      ]
     },
     "execution_count": 5,
     "metadata": {},
     "output_type": "execute_result"
    }
   ],
   "source": [
    "#Creating a dataframe to fill after looping in cities\n",
    "cities_df = pd.DataFrame({\n",
    "    'City': cities,\n",
    "    \"Lat\": Lat,\n",
    "    'Lng': Lng,\n",
    "    'Max Temp': Max_Temp,\n",
    "    'Humidity': Humidity,\n",
    "    'Cloudiness': Cloudiness,\n",
    "    'Wind Speed': Wind_Speed,\n",
    "    'Country': Country,\n",
    "    'Date': Date\n",
    "    })\n",
    "    \n",
    "cities_df.to_csv('output')\n",
    "\n",
    "cities_df.head()"
   ]
  },
  {
   "cell_type": "markdown",
   "metadata": {},
   "source": [
    "## Inspect the data and remove the cities where the humidity > 100%.\n",
    "----\n",
    "Skip this step if there are no cities that have humidity > 100%. "
   ]
  },
  {
   "cell_type": "code",
   "execution_count": 6,
   "metadata": {},
   "outputs": [
    {
     "data": {
      "text/plain": [
       "100.0"
      ]
     },
     "execution_count": 6,
     "metadata": {},
     "output_type": "execute_result"
    }
   ],
   "source": [
    "#This step i skipped because the max Humidity is \n",
    "cities_df['Humidity'].max()"
   ]
  },
  {
   "cell_type": "code",
   "execution_count": 7,
   "metadata": {},
   "outputs": [],
   "source": [
    "#  Get the indices of cities that have humidity over 100%.\n"
   ]
  },
  {
   "cell_type": "code",
   "execution_count": 8,
   "metadata": {},
   "outputs": [],
   "source": [
    "# Make a new DataFrame equal to the city data to drop all humidity outliers by index.\n",
    "# Passing \"inplace=False\" will make a copy of the city_data DataFrame, which we call \"clean_city_data\".\n"
   ]
  },
  {
   "cell_type": "markdown",
   "metadata": {},
   "source": [
    "## Plotting the Data\n",
    "* Use proper labeling of the plots using plot titles (including date of analysis) and axes labels.\n",
    "* Save the plotted figures as .pngs."
   ]
  },
  {
   "cell_type": "markdown",
   "metadata": {},
   "source": [
    "## Latitude vs. Temperature Plot"
   ]
  },
  {
   "cell_type": "code",
   "execution_count": 9,
   "metadata": {
    "scrolled": true
   },
   "outputs": [
    {
     "ename": "NameError",
     "evalue": "name 'date_time' is not defined",
     "output_type": "error",
     "traceback": [
      "\u001b[1;31m---------------------------------------------------------------------------\u001b[0m",
      "\u001b[1;31mNameError\u001b[0m                                 Traceback (most recent call last)",
      "\u001b[1;32mc:\\Users\\AdminLocal\\Desktop\\Bootcamp\\Python_API_challenge\\WeatherPy\\WeatherPy.ipynb Cell 16\u001b[0m in \u001b[0;36m<cell line: 4>\u001b[1;34m()\u001b[0m\n\u001b[0;32m      <a href='vscode-notebook-cell:/c%3A/Users/AdminLocal/Desktop/Bootcamp/Python_API_challenge/WeatherPy/WeatherPy.ipynb#X21sZmlsZQ%3D%3D?line=1'>2</a>\u001b[0m plt\u001b[39m.\u001b[39mxlabel(\u001b[39m'\u001b[39m\u001b[39mLatitude\u001b[39m\u001b[39m'\u001b[39m)\n\u001b[0;32m      <a href='vscode-notebook-cell:/c%3A/Users/AdminLocal/Desktop/Bootcamp/Python_API_challenge/WeatherPy/WeatherPy.ipynb#X21sZmlsZQ%3D%3D?line=2'>3</a>\u001b[0m plt\u001b[39m.\u001b[39mylabel(\u001b[39m'\u001b[39m\u001b[39mMax Temperature (c)\u001b[39m\u001b[39m'\u001b[39m)\n\u001b[1;32m----> <a href='vscode-notebook-cell:/c%3A/Users/AdminLocal/Desktop/Bootcamp/Python_API_challenge/WeatherPy/WeatherPy.ipynb#X21sZmlsZQ%3D%3D?line=3'>4</a>\u001b[0m plt\u001b[39m.\u001b[39mtitle(\u001b[39mf\u001b[39m\u001b[39m'\u001b[39m\u001b[39mCity Latitude vs. Max Temperature \u001b[39m\u001b[39m{\u001b[39;00mdate_time\u001b[39m}\u001b[39;00m\u001b[39m'\u001b[39m)\n\u001b[0;32m      <a href='vscode-notebook-cell:/c%3A/Users/AdminLocal/Desktop/Bootcamp/Python_API_challenge/WeatherPy/WeatherPy.ipynb#X21sZmlsZQ%3D%3D?line=4'>5</a>\u001b[0m plt\u001b[39m.\u001b[39msavefig(\u001b[39m'\u001b[39m\u001b[39mfigure_1\u001b[39m\u001b[39m'\u001b[39m)\n\u001b[0;32m      <a href='vscode-notebook-cell:/c%3A/Users/AdminLocal/Desktop/Bootcamp/Python_API_challenge/WeatherPy/WeatherPy.ipynb#X21sZmlsZQ%3D%3D?line=5'>6</a>\u001b[0m plt\u001b[39m.\u001b[39mshow()\n",
      "\u001b[1;31mNameError\u001b[0m: name 'date_time' is not defined"
     ]
    },
    {
     "data": {
      "image/png": "[encoded data removed]",
      "text/plain": [
       "<Figure size 432x288 with 1 Axes>"
      ]
     },
     "metadata": {
      "needs_background": "light"
     },
     "output_type": "display_data"
    }
   ],
   "source": [
    "plt.scatter(cities_df.iloc[:,1],cities_df.iloc[:,3])\n",
    "plt.xlabel('Latitude')\n",
    "plt.ylabel('Max Temperature (c)')\n",
    "plt.title(f'City Latitude vs. Max Temperature {date_time}')\n",
    "plt.savefig('figure_1')\n",
    "plt.show()"
   ]
  },
  {
   "cell_type": "markdown",
   "metadata": {},
   "source": [
    "## Latitude vs. Humidity Plot"
   ]
  },
  {
   "cell_type": "code",
   "execution_count": null,
   "metadata": {},
   "outputs": [
    {
     "data": {
      "image/png": "[encoded data removed]",
      "text/plain": [
       "<Figure size 432x288 with 1 Axes>"
      ]
     },
     "metadata": {
      "needs_background": "light"
     },
     "output_type": "display_data"
    }
   ],
   "source": [
    "plt.scatter(cities_df.iloc[:,1],cities_df.iloc[:,4])\n",
    "plt.xlabel('Latitude')\n",
    "plt.ylabel('Humidity (%)')\n",
    "plt.title('City Latitude vs. Humidity')\n",
    "plt.savefig('figure_2')\n",
    "plt.show()"
   ]
  },
  {
   "cell_type": "markdown",
   "metadata": {},
   "source": [
    "## Latitude vs. Cloudiness Plot"
   ]
  },
  {
   "cell_type": "code",
   "execution_count": null,
   "metadata": {},
   "outputs": [
    {
     "data": {
      "image/png": "[encoded data removed]",
      "text/plain": [
       "<Figure size 432x288 with 1 Axes>"
      ]
     },
     "metadata": {
      "needs_background": "light"
     },
     "output_type": "display_data"
    }
   ],
   "source": [
    "plt.scatter(cities_df.iloc[:,1],cities_df.iloc[:,5])\n",
    "plt.xlabel('Latitude')\n",
    "plt.ylabel('Cloudiness (%)')\n",
    "plt.title('City Latitude vs. Cloudiness')\n",
    "plt.savefig('figure_3')\n",
    "plt.show()"
   ]
  },
  {
   "cell_type": "markdown",
   "metadata": {},
   "source": [
    "## Latitude vs. Wind Speed Plot"
   ]
  },
  {
   "cell_type": "code",
   "execution_count": null,
   "metadata": {},
   "outputs": [
    {
     "data": {
      "image/png": "[encoded data removed]",
      "text/plain": [
       "<Figure size 432x288 with 1 Axes>"
      ]
     },
     "metadata": {
      "needs_background": "light"
     },
     "output_type": "display_data"
    }
   ],
   "source": [
    "plt.scatter(cities_df.iloc[:,1],cities_df.iloc[:,5])\n",
    "plt.xlabel('Latitude')\n",
    "plt.ylabel('Wind Speed (mph)')\n",
    "plt.title('City Latitude vs. Wind Speed')\n",
    "plt.savefig('figure_4')\n",
    "plt.show()"
   ]
  },
  {
   "cell_type": "markdown",
   "metadata": {},
   "source": [
    "## Linear Regression"
   ]
  },
  {
   "cell_type": "code",
   "execution_count": null,
   "metadata": {},
   "outputs": [],
   "source": [
    "# creating datasets of two different hemispheres\n",
    "north_cities = cities_df.loc[cities_df['Lat'] >= 0]\n",
    "south_cities = cities_df.loc[cities_df['Lat'] < 0]"
   ]
  },
  {
   "cell_type": "markdown",
   "metadata": {},
   "source": [
    "####  Northern Hemisphere - Max Temp vs. Latitude Linear Regression"
   ]
  },
  {
   "cell_type": "code",
   "execution_count": null,
   "metadata": {},
   "outputs": [
    {
     "name": "stdout",
     "output_type": "stream",
     "text": [
      "The r-value is -0.87\n"
     ]
    },
    {
     "data": {
      "image/png": "[encoded data removed]",
      "text/plain": [
       "<Figure size 432x288 with 1 Axes>"
      ]
     },
     "metadata": {
      "needs_background": "light"
     },
     "output_type": "display_data"
    },
    {
     "data": {
      "text/plain": [
       "<Figure size 432x288 with 0 Axes>"
      ]
     },
     "metadata": {},
     "output_type": "display_data"
    }
   ],
   "source": [
    "x = north_cities['Lat']\n",
    "y = north_cities['Max Temp']\n",
    "\n",
    "correlation = st.pearsonr(x, y)\n",
    "(slope, intercept, rvalue, pvalue, stderr) = st.linregress(x,y)\n",
    "regress_values = x * slope + intercept\n",
    "line_eq = \"y = \" + str(round(slope,2)) + \"x + \" + str(round(intercept,2))\n",
    "\n",
    "plt.scatter(x,y)\n",
    "plt.xlabel('Latitude')\n",
    "plt.ylabel('Max Temperature')\n",
    "\n",
    "plt.plot(x,regress_values, \"r-\")\n",
    "plt.annotate(line_eq,(10,-20),fontsize=15,color=\"red\")\n",
    "plt.title('City Latitude vs. Max Temperature in North Hemisphere')\n",
    "\n",
    "print(f'The r-value is {round(rvalue,2)}')\n",
    "\n",
    "plt.show()\n",
    "plt.savefig('figure_5')"
   ]
  },
  {
   "cell_type": "code",
   "execution_count": null,
   "metadata": {},
   "outputs": [],
   "source": [
    "#After each pair of plots, explain what the linear regression is modeling. \n",
    "# Describe any relationships that you notice and any other findings you may uncover."
   ]
  },
  {
   "cell_type": "markdown",
   "metadata": {},
   "source": [
    "####  Southern Hemisphere - Max Temp vs. Latitude Linear Regression"
   ]
  },
  {
   "cell_type": "code",
   "execution_count": null,
   "metadata": {},
   "outputs": [
    {
     "name": "stdout",
     "output_type": "stream",
     "text": [
      "The r-value is 0.82\n"
     ]
    },
    {
     "data": {
      "image/png": "[encoded data removed]",
      "text/plain": [
       "<Figure size 432x288 with 1 Axes>"
      ]
     },
     "metadata": {
      "needs_background": "light"
     },
     "output_type": "display_data"
    },
    {
     "data": {
      "text/plain": [
       "<Figure size 432x288 with 0 Axes>"
      ]
     },
     "metadata": {},
     "output_type": "display_data"
    }
   ],
   "source": [
    "x = south_cities['Lat']\n",
    "y = south_cities['Max Temp']\n",
    "\n",
    "correlation = st.pearsonr(x, y)\n",
    "(slope, intercept, rvalue, pvalue, stderr) = st.linregress(x,y)\n",
    "regress_values = x * slope + intercept\n",
    "line_eq = \"y = \" + str(round(slope,2)) + \"x + \" + str(round(intercept,2))\n",
    "\n",
    "plt.scatter(x,y)\n",
    "plt.xlabel('Latitude')\n",
    "plt.ylabel('Max Temperature')\n",
    "\n",
    "plt.plot(x,regress_values, \"r-\")\n",
    "plt.annotate(line_eq,(-50,50),fontsize=15,color=\"red\")\n",
    "plt.title('City Latitude vs. Max Temperature in South Hemisphere')\n",
    "\n",
    "print(f'The r-value is {round(rvalue,2)}')\n",
    "\n",
    "plt.show()\n",
    "plt.savefig('figure_6')"
   ]
  },
  {
   "cell_type": "markdown",
   "metadata": {},
   "source": [
    "####  Northern Hemisphere - Humidity (%) vs. Latitude Linear Regression"
   ]
  },
  {
   "cell_type": "code",
   "execution_count": null,
   "metadata": {},
   "outputs": [
    {
     "name": "stdout",
     "output_type": "stream",
     "text": [
      "The r-value is 0.31\n"
     ]
    },
    {
     "data": {
      "image/png": "[encoded data removed]",
      "text/plain": [
       "<Figure size 432x288 with 1 Axes>"
      ]
     },
     "metadata": {
      "needs_background": "light"
     },
     "output_type": "display_data"
    },
    {
     "data": {
      "text/plain": [
       "<Figure size 432x288 with 0 Axes>"
      ]
     },
     "metadata": {},
     "output_type": "display_data"
    }
   ],
   "source": [
    "x = north_cities['Lat']\n",
    "y = north_cities['Humidity']\n",
    "\n",
    "correlation = st.pearsonr(x, y)\n",
    "(slope, intercept, rvalue, pvalue, stderr) = st.linregress(x,y)\n",
    "regress_values = x * slope + intercept\n",
    "line_eq = \"y = \" + str(round(slope,2)) + \"x + \" + str(round(intercept,2))\n",
    "\n",
    "plt.scatter(x,y)\n",
    "plt.xlabel('Latitude')\n",
    "plt.ylabel('Humidity')\n",
    "\n",
    "plt.plot(x,regress_values, \"r-\")\n",
    "plt.annotate(line_eq,(10,30),fontsize=15,color=\"red\")\n",
    "plt.title('City Latitude vs. Humidity in Northen Hemisphere')\n",
    "\n",
    "print(f'The r-value is {round(rvalue,2)}')\n",
    "\n",
    "plt.show()\n",
    "plt.savefig('figure_7')"
   ]
  },
  {
   "cell_type": "markdown",
   "metadata": {},
   "source": [
    "####  Southern Hemisphere - Humidity (%) vs. Latitude Linear Regression"
   ]
  },
  {
   "cell_type": "code",
   "execution_count": null,
   "metadata": {},
   "outputs": [
    {
     "name": "stdout",
     "output_type": "stream",
     "text": [
      "The r-value is 0.22\n"
     ]
    },
    {
     "data": {
      "image/png": "[encoded data removed]",
      "text/plain": [
       "<Figure size 432x288 with 1 Axes>"
      ]
     },
     "metadata": {
      "needs_background": "light"
     },
     "output_type": "display_data"
    },
    {
     "data": {
      "text/plain": [
       "<Figure size 432x288 with 0 Axes>"
      ]
     },
     "metadata": {},
     "output_type": "display_data"
    }
   ],
   "source": [
    "x = south_cities['Lat']\n",
    "y = south_cities['Humidity']\n",
    "\n",
    "correlation = st.pearsonr(x, y)\n",
    "(slope, intercept, rvalue, pvalue, stderr) = st.linregress(x,y)\n",
    "regress_values = x * slope + intercept\n",
    "line_eq = \"y = \" + str(round(slope,2)) + \"x + \" + str(round(intercept,2))\n",
    "\n",
    "plt.scatter(x,y)\n",
    "plt.xlabel('Latitude')\n",
    "plt.ylabel('Humidity')\n",
    "\n",
    "plt.plot(x,regress_values, \"r-\")\n",
    "plt.annotate(line_eq,(-50,30),fontsize=15,color=\"red\")\n",
    "plt.title('City Latitude vs. Humidity in Southern Hemisphere')\n",
    "\n",
    "print(f'The r-value is {round(rvalue,2)}')\n",
    "\n",
    "plt.show()\n",
    "plt.savefig('figure_8')"
   ]
  },
  {
   "cell_type": "markdown",
   "metadata": {},
   "source": [
    "####  Northern Hemisphere - Cloudiness (%) vs. Latitude Linear Regression"
   ]
  },
  {
   "cell_type": "code",
   "execution_count": null,
   "metadata": {},
   "outputs": [
    {
     "name": "stdout",
     "output_type": "stream",
     "text": [
      "The r-value is 0.16\n"
     ]
    },
    {
     "data": {
      "image/png": "[encoded data removed]",
      "text/plain": [
       "<Figure size 432x288 with 1 Axes>"
      ]
     },
     "metadata": {
      "needs_background": "light"
     },
     "output_type": "display_data"
    },
    {
     "data": {
      "text/plain": [
       "<Figure size 432x288 with 0 Axes>"
      ]
     },
     "metadata": {},
     "output_type": "display_data"
    }
   ],
   "source": [
    "x = north_cities['Lat']\n",
    "y = north_cities['Cloudiness']\n",
    "\n",
    "correlation = st.pearsonr(x, y)\n",
    "(slope, intercept, rvalue, pvalue, stderr) = st.linregress(x,y)\n",
    "regress_values = x * slope + intercept\n",
    "line_eq = \"y = \" + str(round(slope,2)) + \"x + \" + str(round(intercept,2))\n",
    "\n",
    "plt.scatter(x,y)\n",
    "plt.xlabel('Latitude')\n",
    "plt.ylabel('Cloudiness')\n",
    "\n",
    "plt.plot(x,regress_values, \"r-\")\n",
    "plt.annotate(line_eq,(10,10),fontsize=15,color=\"red\")\n",
    "plt.title('City Latitude vs. Cloudiness in Northern Hemisphere')\n",
    "\n",
    "print(f'The r-value is {round(rvalue,2)}')\n",
    "\n",
    "plt.show()\n",
    "plt.savefig('figure_9')"
   ]
  },
  {
   "cell_type": "markdown",
   "metadata": {},
   "source": [
    "####  Southern Hemisphere - Cloudiness (%) vs. Latitude Linear Regression"
   ]
  },
  {
   "cell_type": "code",
   "execution_count": null,
   "metadata": {},
   "outputs": [
    {
     "name": "stdout",
     "output_type": "stream",
     "text": [
      "The r-value is 0.16\n"
     ]
    },
    {
     "data": {
      "image/png": "[encoded data removed]",
      "text/plain": [
       "<Figure size 432x288 with 1 Axes>"
      ]
     },
     "metadata": {
      "needs_background": "light"
     },
     "output_type": "display_data"
    },
    {
     "data": {
      "text/plain": [
       "<Figure size 432x288 with 0 Axes>"
      ]
     },
     "metadata": {},
     "output_type": "display_data"
    }
   ],
   "source": [
    "x = south_cities['Lat']\n",
    "y = south_cities['Cloudiness']\n",
    "\n",
    "correlation = st.pearsonr(x, y)\n",
    "(slope, intercept, rvalue, pvalue, stderr) = st.linregress(x,y)\n",
    "regress_values = x * slope + intercept\n",
    "line_eq = \"y = \" + str(round(slope,2)) + \"x + \" + str(round(intercept,2))\n",
    "\n",
    "plt.scatter(x,y)\n",
    "plt.xlabel('Latitude')\n",
    "plt.ylabel('Cloudiness')\n",
    "\n",
    "plt.plot(x,regress_values, \"r-\")\n",
    "plt.annotate(line_eq,(-50,10),fontsize=15,color=\"red\")\n",
    "plt.title('City Latitude vs. Cloudiness in Southern Hemisphere')\n",
    "\n",
    "print(f'The r-value is {round(rvalue,2)}')\n",
    "\n",
    "plt.show()\n",
    "plt.savefig('figure_10')"
   ]
  },
  {
   "cell_type": "markdown",
   "metadata": {},
   "source": [
    "####  Northern Hemisphere - Wind Speed (mph) vs. Latitude Linear Regression"
   ]
  },
  {
   "cell_type": "code",
   "execution_count": null,
   "metadata": {},
   "outputs": [
    {
     "name": "stdout",
     "output_type": "stream",
     "text": [
      "The r-value is 0.14\n"
     ]
    },
    {
     "data": {
      "image/png": "[encoded data removed]",
      "text/plain": [
       "<Figure size 432x288 with 1 Axes>"
      ]
     },
     "metadata": {
      "needs_background": "light"
     },
     "output_type": "display_data"
    },
    {
     "data": {
      "text/plain": [
       "<Figure size 432x288 with 0 Axes>"
      ]
     },
     "metadata": {},
     "output_type": "display_data"
    }
   ],
   "source": [
    "x = north_cities['Lat']\n",
    "y = north_cities['Wind Speed']\n",
    "\n",
    "correlation = st.pearsonr(x, y)\n",
    "(slope, intercept, rvalue, pvalue, stderr) = st.linregress(x,y)\n",
    "regress_values = x * slope + intercept\n",
    "line_eq = \"y = \" + str(round(slope,2)) + \"x + \" + str(round(intercept,2))\n",
    "\n",
    "plt.scatter(x,y)\n",
    "plt.xlabel('Latitude')\n",
    "plt.ylabel('Wind Speed')\n",
    "\n",
    "plt.plot(x,regress_values, \"r-\")\n",
    "plt.annotate(line_eq,(10,10),fontsize=15,color=\"red\")\n",
    "plt.title('City Latitude vs. Wind Speed in Northern Hemisphere')\n",
    "\n",
    "print(f'The r-value is {round(rvalue,2)}')\n",
    "\n",
    "plt.show()\n",
    "plt.savefig('figure_11')"
   ]
  },
  {
   "cell_type": "markdown",
   "metadata": {},
   "source": [
    "####  Southern Hemisphere - Wind Speed (mph) vs. Latitude Linear Regression"
   ]
  },
  {
   "cell_type": "code",
   "execution_count": null,
   "metadata": {},
   "outputs": [
    {
     "name": "stdout",
     "output_type": "stream",
     "text": [
      "The r-value is -0.56\n"
     ]
    },
    {
     "data": {
      "image/png": "[encoded data removed]",
      "text/plain": [
       "<Figure size 432x288 with 1 Axes>"
      ]
     },
     "metadata": {
      "needs_background": "light"
     },
     "output_type": "display_data"
    },
    {
     "data": {
      "text/plain": [
       "<Figure size 432x288 with 0 Axes>"
      ]
     },
     "metadata": {},
     "output_type": "display_data"
    }
   ],
   "source": [
    "x = south_cities['Lat']\n",
    "y = south_cities['Wind Speed']\n",
    "\n",
    "correlation = st.pearsonr(x, y)\n",
    "(slope, intercept, rvalue, pvalue, stderr) = st.linregress(x,y)\n",
    "regress_values = x * slope + intercept\n",
    "line_eq = \"y = \" + str(round(slope,2)) + \"x + \" + str(round(intercept,2))\n",
    "\n",
    "plt.scatter(x,y)\n",
    "plt.xlabel('Latitude')\n",
    "plt.ylabel('Wind Speed')\n",
    "\n",
    "plt.plot(x,regress_values, \"r-\")\n",
    "plt.annotate(line_eq,(-50,2),fontsize=15,color=\"red\")\n",
    "plt.title('City Latitude vs. Wind Speed in Southern Hemisphere')\n",
    "\n",
    "print(f'The r-value is {round(rvalue,2)}')\n",
    "\n",
    "plt.show()\n",
    "plt.savefig('figure_12')"
   ]
  },
  {
   "cell_type": "code",
   "execution_count": null,
   "metadata": {},
   "outputs": [],
   "source": []
  }
 ],
 "metadata": {
  "anaconda-cloud": {},
  "kernel_info": {
   "name": "python3"
  },
  "kernelspec": {
   "display_name": "Python 3.9.12 ('base')",
   "language": "python",
   "name": "python3"
  },
  "language_info": {
   "codemirror_mode": {
    "name": "ipython",
    "version": 3
   },
   "file_extension": ".py",
   "mimetype": "text/x-python",
   "name": "python",
   "nbconvert_exporter": "python",
   "pygments_lexer": "ipython3",
   "version": "3.9.12"
  },
  "latex_envs": {
   "LaTeX_envs_menu_present": true,
   "autoclose": false,
   "autocomplete": true,
   "bibliofile": "biblio.bib",
   "cite_by": "apalike",
   "current_citInitial": 1,
   "eqLabelWithNumbers": true,
   "eqNumInitial": 1,
   "hotkeys": {
    "equation": "Ctrl-E",
    "itemize": "Ctrl-I"
   },
   "labels_anchors": false,
   "latex_user_defs": false,
   "report_style_numbering": false,
   "user_envs_cfg": false
  },
  "nteract": {
   "version": "0.12.3"
  },
  "vscode": {
   "interpreter": {
    "hash": "3f4da9ad29e059a40e4a65ef355beaf2f6b9d5f6b9e791e2b0a14c28b2ec070e"
   }
  }
 },
 "nbformat": 4,
 "nbformat_minor": 2
}
